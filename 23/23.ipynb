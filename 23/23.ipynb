{
 "cells": [
  {
   "cell_type": "code",
   "execution_count": null,
   "metadata": {
    "dotnet_interactive": {
     "language": "fsharp"
    },
    "vscode": {
     "languageId": "dotnet-interactive.fsharp"
    }
   },
   "outputs": [
    {
     "data": {
      "text/html": [
       "<div><div><strong>Restore sources</strong><ul><li><span>https://www.myget.org/F/gregs-experimental-packages/api/v3/index.json</span></li></ul></div><div></div><div><strong>Installed Packages</strong><ul><li><span>Deedle, 2.5.0</span></li><li><span>Deedle.DotNet.Interactive.Extension, 0.1.0-alpha8</span></li><li><span>FSharp.Charting, 2.1.0</span></li></ul></div></div>"
      ]
     },
     "metadata": {},
     "output_type": "display_data"
    }
   ],
   "source": [
    "#i \"nuget:https://www.myget.org/F/gregs-experimental-packages/api/v3/index.json\"\n",
    "\n",
    "#r \"nuget:Deedle.DotNet.Interactive.Extension,0.1.0-alpha8\"\n",
    "#r \"nuget:Deedle\"\n",
    "#r \"nuget:FSharp.Charting\""
   ]
  },
  {
   "cell_type": "code",
   "execution_count": null,
   "metadata": {
    "dotnet_interactive": {
     "language": "fsharp"
    },
    "vscode": {
     "languageId": "dotnet-interactive.fsharp"
    }
   },
   "outputs": [
    {
     "data": {
      "text/html": [
       "<div><table><caption>A frame: 3668 x 5</caption><thead><tr><th></th><th>TRANSPORT</th><th>TIME</th><th>A</th><th>B</th><th>SPEED</th></tr><tr><th></th><th>System.String</th><th>System.DateTime</th><th>System.String</th><th>System.String</th><th>System.Decimal</th></tr></thead><tbody><tr><td>0</td><td>CARGO_15100</td><td>11/25/1859 10:16:40</td><td>Steamdrift</td><td>Rustport</td><td>74.09</td></tr><tr><td>1</td><td>CARGO_15101</td><td>11/26/1859 03:58:07</td><td>Rustport</td><td>Irondale</td><td>73.6</td></tr><tr><td>2</td><td>CARGO_15101</td><td>11/26/1859 13:02:07</td><td>Irondale</td><td>Leverstorm</td><td>69.37</td></tr><tr><td>3</td><td>CARGO_15102</td><td>11/26/1859 19:55:34</td><td>Leverstorm</td><td>Copperhold</td><td>82.58</td></tr><tr><td>4</td><td>CARGO_15102</td><td>11/27/1859 09:23:42</td><td>Copperhold</td><td>Cogburg</td><td>77.73</td></tr><tr><td>5</td><td>CARGO_15103</td><td>11/28/1859 02:30:18</td><td>Cogburg</td><td>Steamdrift</td><td>74.17</td></tr><tr><td>6</td><td>CARGO_15104</td><td>11/28/1859 19:45:01</td><td>Steamdrift</td><td>Cogburg</td><td>73.59</td></tr><tr><td>7</td><td>CARGO_15104</td><td>11/29/1859 08:41:30</td><td>Cogburg</td><td>Irondale</td><td>79.9</td></tr><tr><td>8</td><td>CARGO_15104</td><td>11/29/1859 14:59:00</td><td>Irondale</td><td>Gizbourne</td><td>83.6</td></tr><tr><td>9</td><td>CARGO_15105</td><td>11/29/1859 22:00:28</td><td>Gizbourne</td><td>Irondale</td><td>74.88</td></tr><tr><td>10</td><td>CARGO_15105</td><td>11/30/1859 02:50:33</td><td>Irondale</td><td>Copperhold</td><td>71.36</td></tr><tr><td>11</td><td>CARGO_15106</td><td>11/30/1859 07:22:40</td><td>Copperhold</td><td>Irondale</td><td>76.07</td></tr><tr><td>12</td><td>CARGO_15107</td><td>11/30/1859 21:52:50</td><td>Irondale</td><td>Cogburg</td><td>71.3</td></tr><tr><td>13</td><td>CARGO_15108</td><td>12/01/1859 10:35:51</td><td>Cogburg</td><td>Copperhold</td><td>82.33</td></tr><tr><td>14</td><td>CARGO_15108</td><td>12/01/1859 17:50:44</td><td>Copperhold</td><td>Leverstorm</td><td>78.5</td></tr><tr><td>15</td><td>CARGO_15109</td><td>12/02/1859 01:46:32</td><td>Leverstorm</td><td>Copperhold</td><td>71.75</td></tr><tr><td>16</td><td>CARGO_15109</td><td>12/02/1859 15:51:50</td><td>Copperhold</td><td>Cogburg</td><td>74.32</td></tr><tr><td>17</td><td>CARGO_15109</td><td>12/03/1859 13:29:58</td><td>Cogburg</td><td>Steamdrift</td><td>58.65</td></tr><tr><td>18</td><td>CARGO_15110</td><td>12/04/1859 06:58:51</td><td>Steamdrift</td><td>Cogburg</td><td>72.59</td></tr><tr><td>19</td><td>CARGO_15111</td><td>12/05/1859 00:54:01</td><td>Cogburg</td><td>Rustport</td><td>79.3</td></tr><tr><td>...</td><td>...</td><td>...</td><td>...</td><td>...</td><td>...</td></tr></tbody></table><div><p><span>...with 3648 additional rows</span></p></div></div>"
      ]
     },
     "metadata": {},
     "output_type": "display_data"
    }
   ],
   "source": [
    "open Deedle\n",
    "\n",
    "type Model = string -> string -> float\n",
    "\n",
    "let df = Frame.ReadCsv(\"/workspaces/transport tycoon/23/s02e03_train.csv\")\n",
    "df"
   ]
  },
  {
   "cell_type": "code",
   "execution_count": null,
   "metadata": {
    "dotnet_interactive": {
     "language": "fsharp"
    },
    "vscode": {
     "languageId": "dotnet-interactive.fsharp"
    }
   },
   "outputs": [],
   "source": [
    "// Global avg model\n",
    "let avgTime = df?SPEED.Sum() / (float df.RowCount)\n",
    "\n",
    "let model_GlobalAvg: Model = fun _ _ -> avgTime"
   ]
  },
  {
   "cell_type": "code",
   "execution_count": null,
   "metadata": {
    "dotnet_interactive": {
     "language": "fsharp"
    },
    "vscode": {
     "languageId": "dotnet-interactive.fsharp"
    }
   },
   "outputs": [
    {
     "data": {
      "text/html": [
       "<div><table><caption>A frame: 917 x 7</caption><thead><tr><th></th><th>TRANSPORT</th><th>TIME</th><th>A</th><th>B</th><th>SPEED</th><th>prediction</th><th>error</th></tr><tr><th></th><th>System.String</th><th>System.DateTime</th><th>System.String</th><th>System.String</th><th>System.Decimal</th><th>System.Double</th><th>System.Double</th></tr></thead><tbody><tr><td>0</td><td>CARGO_17490</td><td>12/13/1859 10:56:05</td><td>Gizbourne</td><td>Rustport</td><td>72.17</td><td>77.17352508178855</td><td>25.03526324408714</td></tr><tr><td>1</td><td>CARGO_17491</td><td>12/14/1859 03:18:00</td><td>Rustport</td><td>Gizbourne</td><td>74.55</td><td>77.17352508178855</td><td>6.882883854773655</td></tr><tr><td>2</td><td>CARGO_17492</td><td>12/14/1859 15:18:37</td><td>Gizbourne</td><td>Leverstorm</td><td>72.1</td><td>77.17352508178855</td><td>25.740656755537614</td></tr><tr><td>3</td><td>CARGO_17493</td><td>12/15/1859 00:56:21</td><td>Leverstorm</td><td>Irondale</td><td>65.32</td><td>77.17352508178855</td><td>140.5060568645905</td></tr><tr><td>4</td><td>CARGO_17494</td><td>12/15/1859 05:17:14</td><td>Irondale</td><td>Copperhold</td><td>79.35</td><td>77.17352508178855</td><td>4.737043069603494</td></tr><tr><td>5</td><td>CARGO_17495</td><td>12/15/1859 10:33:25</td><td>Copperhold</td><td>Irondale</td><td>65.47</td><td>77.17352508178855</td><td>136.97249934005382</td></tr><tr><td>6</td><td>CARGO_17495</td><td>12/15/1859 17:25:31</td><td>Irondale</td><td>Gizbourne</td><td>76.58</td><td>77.17352508178855</td><td>0.3522720227121121</td></tr><tr><td>7</td><td>CARGO_17496</td><td>12/16/1859 00:22:25</td><td>Gizbourne</td><td>Irondale</td><td>75.7</td><td>77.17352508178855</td><td>2.171276166659957</td></tr><tr><td>8</td><td>CARGO_17497</td><td>12/16/1859 06:23:09</td><td>Irondale</td><td>Gizbourne</td><td>87.49</td><td>77.17352508178855</td><td>106.42965473808574</td></tr><tr><td>9</td><td>CARGO_17498</td><td>12/16/1859 13:27:25</td><td>Gizbourne</td><td>Irondale</td><td>74.39</td><td>77.17352508178855</td><td>7.748011880945975</td></tr><tr><td>10</td><td>CARGO_17498</td><td>12/17/1859 04:23:04</td><td>Irondale</td><td>Cogburg</td><td>69.27</td><td>77.17352508178855</td><td>62.46570871846084</td></tr><tr><td>11</td><td>CARGO_17499</td><td>12/17/1859 20:21:16</td><td>Cogburg</td><td>Rustport</td><td>88.98</td><td>77.17352508178855</td><td>139.39284999435606</td></tr><tr><td>12</td><td>CARGO_17500</td><td>11/25/1859 09:38:20</td><td>Rustport</td><td>Steamdrift</td><td>75.94</td><td>77.17352508178855</td><td>1.5215841274014652</td></tr><tr><td>13</td><td>CARGO_17501</td><td>11/26/1859 04:53:30</td><td>Steamdrift</td><td>Cogburg</td><td>65.91</td><td>77.17352508178855</td><td>126.86699726807994</td></tr><tr><td>14</td><td>CARGO_17502</td><td>11/26/1859 16:45:13</td><td>Cogburg</td><td>Copperhold</td><td>88.26</td><td>77.17352508178855</td><td>122.9099261121316</td></tr><tr><td>15</td><td>CARGO_17502</td><td>11/26/1859 22:53:01</td><td>Copperhold</td><td>Leverstorm</td><td>92.82</td><td>77.17352508178855</td><td>244.81217736621966</td></tr><tr><td>16</td><td>CARGO_17503</td><td>11/27/1859 04:53:18</td><td>Leverstorm</td><td>Copperhold</td><td>94.76</td><td>77.17352508178855</td><td>309.2841000488805</td></tr><tr><td>17</td><td>CARGO_17503</td><td>11/27/1859 17:05:32</td><td>Copperhold</td><td>Cogburg</td><td>85.79</td><td>77.17352508178855</td><td>74.24364001616705</td></tr><tr><td>18</td><td>CARGO_17504</td><td>11/28/1859 05:56:29</td><td>Cogburg</td><td>Irondale</td><td>80.47</td><td>77.17352508178855</td><td>10.86674688639715</td></tr><tr><td>19</td><td>CARGO_17505</td><td>11/28/1859 16:02:16</td><td>Irondale</td><td>Leverstorm</td><td>62.3</td><td>77.17352508178855</td><td>221.22174835859332</td></tr><tr><td>...</td><td>...</td><td>...</td><td>...</td><td>...</td><td>...</td><td>...</td><td>...</td></tr></tbody></table><div><p><span>...with 897 additional rows</span></p></div></div>"
      ]
     },
     "metadata": {},
     "output_type": "display_data"
    }
   ],
   "source": [
    "let evaluate model =\n",
    "    let dfTest = Frame.ReadCsv(\"/workspaces/transport tycoon/23/s02e03_test.csv\")\n",
    "\n",
    "    dfTest?prediction <-\n",
    "        dfTest.Rows \n",
    "        |> Series.mapValues (fun row -> model (row.GetAs<string>(\"A\")) (row.GetAs<string>(\"B\")))\n",
    "    dfTest?error <-\n",
    "        dfTest.Rows\n",
    "        |> Series.mapValues (fun row -> Math.Pow(row?SPEED - row?prediction, 2))\n",
    "    dfTest\n",
    "\n",
    "let eval_GlobalAvg = evaluate model_GlobalAvg\n",
    "eval_GlobalAvg"
   ]
  },
  {
   "cell_type": "code",
   "execution_count": null,
   "metadata": {
    "dotnet_interactive": {
     "language": "fsharp"
    },
    "vscode": {
     "languageId": "dotnet-interactive.fsharp"
    }
   },
   "outputs": [
    {
     "data": {
      "text/plain": [
       "MSE is 60.87872530180129"
      ]
     },
     "metadata": {},
     "output_type": "display_data"
    }
   ],
   "source": [
    "let mse = eval_GlobalAvg?error.Sum() / (float eval_GlobalAvg.RowCount)\n",
    "$\"MSE is {mse}\""
   ]
  },
  {
   "cell_type": "code",
   "execution_count": null,
   "metadata": {
    "dotnet_interactive": {
     "language": "fsharp"
    },
    "vscode": {
     "languageId": "dotnet-interactive.fsharp"
    }
   },
   "outputs": [
    {
     "data": {
      "text/html": [
       "<div><table><caption>A frame: 7 x 7</caption><thead><tr><th></th><th>Steamdrift</th><th>Irondale</th><th>Cogburg</th><th>Gizbourne</th><th>Rustport</th><th>Copperhold</th><th>Leverstorm</th></tr><tr><th></th><th>System.Double</th><th>System.Double</th><th>System.Double</th><th>System.Double</th><th>System.Double</th><th>System.Double</th><th>System.Double</th></tr></thead><tbody><tr><td>Rustport</td><td>81.26016666666665</td><td>81.29276470588238</td><td>78.18102040816328</td><td>77.93559322033896</td><td>N/A</td><td>N/A</td><td>N/A</td></tr><tr><td>Cogburg</td><td>73.52897435897435</td><td>79.76871886120996</td><td>N/A</td><td>N/A</td><td>74.86824561403509</td><td>75.44949494949492</td><td>N/A</td></tr><tr><td>Gizbourne</td><td>N/A</td><td>81.81487179487183</td><td>N/A</td><td>N/A</td><td>79.50499999999998</td><td>N/A</td><td>76.73847826086958</td></tr><tr><td>Leverstorm</td><td>N/A</td><td>72.00929577464791</td><td>N/A</td><td>72.40650000000001</td><td>N/A</td><td>74.50417322834645</td><td>N/A</td></tr><tr><td>Copperhold</td><td>N/A</td><td>75.15352941176471</td><td>77.2961616161616</td><td>N/A</td><td>N/A</td><td>N/A</td><td>75.25553719008262</td></tr><tr><td>Irondale</td><td>N/A</td><td>N/A</td><td>80.0817894736842</td><td>81.24081818181813</td><td>78.35572289156624</td><td>75.06359116022095</td><td>74.70814814814814</td></tr><tr><td>Steamdrift</td><td>N/A</td><td>N/A</td><td>73.68425992779785</td><td>N/A</td><td>81.98290909090908</td><td>N/A</td><td>N/A</td></tr></tbody></table></div>"
      ]
     },
     "metadata": {},
     "output_type": "display_data"
    }
   ],
   "source": [
    "// Per-Journey avg model\n",
    "let groupedByJourney: Frame<(string * (string * int)), string> =\n",
    "    df\n",
    "    |> Frame.groupRowsBy \"A\"\n",
    "    |> Frame.groupRowsBy \"B\"\n",
    "    \n",
    "let journeyAvg = groupedByJourney?SPEED\n",
    "                |> Series.applyLevel (fun (a, (b, _)) -> (a, b)) (fun s -> s.Sum() / (float s.ValueCount))\n",
    "                |> Series.map (fun (a,b) v -> (a,b,v))\n",
    "                |> Series.values\n",
    "                |> Frame.ofValues\n",
    "journeyAvg"
   ]
  },
  {
   "cell_type": "code",
   "execution_count": null,
   "metadata": {
    "dotnet_interactive": {
     "language": "fsharp"
    },
    "vscode": {
     "languageId": "dotnet-interactive.fsharp"
    }
   },
   "outputs": [
    {
     "data": {
      "text/html": [
       "<div><table><caption>A frame: 917 x 7</caption><thead><tr><th></th><th>TRANSPORT</th><th>TIME</th><th>A</th><th>B</th><th>SPEED</th><th>prediction</th><th>error</th></tr><tr><th></th><th>System.String</th><th>System.DateTime</th><th>System.String</th><th>System.String</th><th>System.Decimal</th><th>System.Double</th><th>System.Double</th></tr></thead><tbody><tr><td>0</td><td>CARGO_17490</td><td>12/13/1859 10:56:05</td><td>Gizbourne</td><td>Rustport</td><td>72.17</td><td>77.93559322033896</td><td>33.24206518241854</td></tr><tr><td>1</td><td>CARGO_17491</td><td>12/14/1859 03:18:00</td><td>Rustport</td><td>Gizbourne</td><td>74.55</td><td>79.50499999999998</td><td>24.55202499999984</td></tr><tr><td>2</td><td>CARGO_17492</td><td>12/14/1859 15:18:37</td><td>Gizbourne</td><td>Leverstorm</td><td>72.1</td><td>72.40650000000001</td><td>0.09394225000000857</td></tr><tr><td>3</td><td>CARGO_17493</td><td>12/15/1859 00:56:21</td><td>Leverstorm</td><td>Irondale</td><td>65.32</td><td>74.70814814814814</td><td>88.13732565157748</td></tr><tr><td>4</td><td>CARGO_17494</td><td>12/15/1859 05:17:14</td><td>Irondale</td><td>Copperhold</td><td>79.35</td><td>75.15352941176471</td><td>17.610365397923808</td></tr><tr><td>5</td><td>CARGO_17495</td><td>12/15/1859 10:33:25</td><td>Copperhold</td><td>Irondale</td><td>65.47</td><td>75.06359116022095</td><td>92.03699134946962</td></tr><tr><td>6</td><td>CARGO_17495</td><td>12/15/1859 17:25:31</td><td>Irondale</td><td>Gizbourne</td><td>76.58</td><td>81.81487179487183</td><td>27.40388270874468</td></tr><tr><td>7</td><td>CARGO_17496</td><td>12/16/1859 00:22:25</td><td>Gizbourne</td><td>Irondale</td><td>75.7</td><td>81.24081818181813</td><td>30.70066612396631</td></tr><tr><td>8</td><td>CARGO_17497</td><td>12/16/1859 06:23:09</td><td>Irondale</td><td>Gizbourne</td><td>87.49</td><td>81.81487179487183</td><td>32.207080144641175</td></tr><tr><td>9</td><td>CARGO_17498</td><td>12/16/1859 13:27:25</td><td>Gizbourne</td><td>Irondale</td><td>74.39</td><td>81.24081818181813</td><td>46.933709760329826</td></tr><tr><td>10</td><td>CARGO_17498</td><td>12/17/1859 04:23:04</td><td>Irondale</td><td>Cogburg</td><td>69.27</td><td>79.76871886120996</td><td>110.22309772672588</td></tr><tr><td>11</td><td>CARGO_17499</td><td>12/17/1859 20:21:16</td><td>Cogburg</td><td>Rustport</td><td>88.98</td><td>78.18102040816328</td><td>116.61796022490611</td></tr><tr><td>12</td><td>CARGO_17500</td><td>11/25/1859 09:38:20</td><td>Rustport</td><td>Steamdrift</td><td>75.94</td><td>81.98290909090908</td><td>36.51675028099157</td></tr><tr><td>13</td><td>CARGO_17501</td><td>11/26/1859 04:53:30</td><td>Steamdrift</td><td>Cogburg</td><td>65.91</td><td>73.52897435897435</td><td>58.048770282708695</td></tr><tr><td>14</td><td>CARGO_17502</td><td>11/26/1859 16:45:13</td><td>Cogburg</td><td>Copperhold</td><td>88.26</td><td>77.2961616161616</td><td>120.20575210692837</td></tr><tr><td>15</td><td>CARGO_17502</td><td>11/26/1859 22:53:01</td><td>Copperhold</td><td>Leverstorm</td><td>92.82</td><td>74.50417322834645</td><td>335.46951032922084</td></tr><tr><td>16</td><td>CARGO_17503</td><td>11/27/1859 04:53:18</td><td>Leverstorm</td><td>Copperhold</td><td>94.76</td><td>75.25553719008262</td><td>380.42406950345037</td></tr><tr><td>17</td><td>CARGO_17503</td><td>11/27/1859 17:05:32</td><td>Copperhold</td><td>Cogburg</td><td>85.79</td><td>75.44949494949492</td><td>106.9260446995212</td></tr><tr><td>18</td><td>CARGO_17504</td><td>11/28/1859 05:56:29</td><td>Cogburg</td><td>Irondale</td><td>80.47</td><td>80.0817894736842</td><td>0.15070741274239233</td></tr><tr><td>19</td><td>CARGO_17505</td><td>11/28/1859 16:02:16</td><td>Irondale</td><td>Leverstorm</td><td>62.3</td><td>72.00929577464791</td><td>94.27042443959581</td></tr><tr><td>...</td><td>...</td><td>...</td><td>...</td><td>...</td><td>...</td><td>...</td><td>...</td></tr></tbody></table><div><p><span>...with 897 additional rows</span></p></div></div>"
      ]
     },
     "metadata": {},
     "output_type": "display_data"
    }
   ],
   "source": [
    "let model_JourneyAvg: Model = fun a b -> journeyAvg.[a,b] :?> float\n",
    "\n",
    "let eval_JourneyAvg = evaluate model_JourneyAvg\n",
    "eval_JourneyAvg"
   ]
  },
  {
   "cell_type": "code",
   "execution_count": null,
   "metadata": {
    "dotnet_interactive": {
     "language": "fsharp"
    },
    "vscode": {
     "languageId": "dotnet-interactive.fsharp"
    }
   },
   "outputs": [
    {
     "data": {
      "text/plain": [
       "MSE is 52.551138978521806"
      ]
     },
     "metadata": {},
     "output_type": "display_data"
    }
   ],
   "source": [
    "let mse = eval_JourneyAvg?error.Sum() / (float eval_JourneyAvg.RowCount)\n",
    "$\"MSE is {mse}\""
   ]
  }
 ],
 "metadata": {
  "kernelspec": {
   "display_name": ".NET (C#)",
   "language": "C#",
   "name": ".net-csharp"
  },
  "language_info": {
   "file_extension": ".cs",
   "mimetype": "text/x-csharp",
   "name": "C#",
   "pygments_lexer": "csharp",
   "version": "9.0"
  },
  "orig_nbformat": 4
 },
 "nbformat": 4,
 "nbformat_minor": 2
}
