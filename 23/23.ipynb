{
 "cells": [
  {
   "cell_type": "code",
   "execution_count": null,
   "metadata": {
    "dotnet_interactive": {
     "language": "fsharp"
    },
    "vscode": {
     "languageId": "dotnet-interactive.fsharp"
    }
   },
   "outputs": [
    {
     "data": {
      "text/html": [
       "<div><div></div><div></div><div><strong>Installed Packages</strong><ul><li><span>FSharp.Data, 4.2.8</span></li><li><span>FSharpX.Collections, 3.0.1</span></li></ul></div></div>"
      ]
     },
     "metadata": {},
     "output_type": "display_data"
    }
   ],
   "source": [
    "#r \"nuget:FSharp.Data\"\n",
    "#r \"nuget:FSharpX.Collections\""
   ]
  },
  {
   "cell_type": "code",
   "execution_count": null,
   "metadata": {
    "dotnet_interactive": {
     "language": "fsharp"
    },
    "vscode": {
     "languageId": "dotnet-interactive.fsharp"
    }
   },
   "outputs": [
    {
     "data": {
      "text/html": [
       "<table><thead><tr><th><i>index</i></th><th>Columns</th></tr></thead><tbody><tr><td>0</td><td><div class=\"dni-plaintext\">[ CARGO_17490, 1859-12-13 10:56:05, Gizbourne, Rustport, 72.17 ]</div></td></tr><tr><td>1</td><td><div class=\"dni-plaintext\">[ CARGO_17491, 1859-12-14 03:18:00, Rustport, Gizbourne, 74.55 ]</div></td></tr><tr><td>2</td><td><div class=\"dni-plaintext\">[ CARGO_17492, 1859-12-14 15:18:37, Gizbourne, Leverstorm, 72.1 ]</div></td></tr><tr><td>3</td><td><div class=\"dni-plaintext\">[ CARGO_17493, 1859-12-15 00:56:21, Leverstorm, Irondale, 65.32 ]</div></td></tr><tr><td>4</td><td><div class=\"dni-plaintext\">[ CARGO_17494, 1859-12-15 05:17:14, Irondale, Copperhold, 79.35 ]</div></td></tr><tr><td>5</td><td><div class=\"dni-plaintext\">[ CARGO_17495, 1859-12-15 10:33:25, Copperhold, Irondale, 65.47 ]</div></td></tr><tr><td>6</td><td><div class=\"dni-plaintext\">[ CARGO_17495, 1859-12-15 17:25:31, Irondale, Gizbourne, 76.58 ]</div></td></tr><tr><td>7</td><td><div class=\"dni-plaintext\">[ CARGO_17496, 1859-12-16 00:22:25, Gizbourne, Irondale, 75.7 ]</div></td></tr><tr><td>8</td><td><div class=\"dni-plaintext\">[ CARGO_17497, 1859-12-16 06:23:09, Irondale, Gizbourne, 87.49 ]</div></td></tr><tr><td>9</td><td><div class=\"dni-plaintext\">[ CARGO_17498, 1859-12-16 13:27:25, Gizbourne, Irondale, 74.39 ]</div></td></tr><tr><td>10</td><td><div class=\"dni-plaintext\">[ CARGO_17498, 1859-12-17 04:23:04, Irondale, Cogburg, 69.27 ]</div></td></tr><tr><td>11</td><td><div class=\"dni-plaintext\">[ CARGO_17499, 1859-12-17 20:21:16, Cogburg, Rustport, 88.98 ]</div></td></tr><tr><td>12</td><td><div class=\"dni-plaintext\">[ CARGO_17500, 1859-11-25 09:38:20, Rustport, Steamdrift, 75.94 ]</div></td></tr><tr><td>13</td><td><div class=\"dni-plaintext\">[ CARGO_17501, 1859-11-26 04:53:30, Steamdrift, Cogburg, 65.91 ]</div></td></tr><tr><td>14</td><td><div class=\"dni-plaintext\">[ CARGO_17502, 1859-11-26 16:45:13, Cogburg, Copperhold, 88.26 ]</div></td></tr><tr><td>15</td><td><div class=\"dni-plaintext\">[ CARGO_17502, 1859-11-26 22:53:01, Copperhold, Leverstorm, 92.82 ]</div></td></tr><tr><td>16</td><td><div class=\"dni-plaintext\">[ CARGO_17503, 1859-11-27 04:53:18, Leverstorm, Copperhold, 94.76 ]</div></td></tr><tr><td>17</td><td><div class=\"dni-plaintext\">[ CARGO_17503, 1859-11-27 17:05:32, Copperhold, Cogburg, 85.79 ]</div></td></tr><tr><td>18</td><td><div class=\"dni-plaintext\">[ CARGO_17504, 1859-11-28 05:56:29, Cogburg, Irondale, 80.47 ]</div></td></tr><tr><td>19</td><td><div class=\"dni-plaintext\">[ CARGO_17505, 1859-11-28 16:02:16, Irondale, Leverstorm, 62.3 ]</div></td></tr><tr><td colspan=\"2\"><i>... (more)</i></td></tr></tbody></table>"
      ]
     },
     "metadata": {},
     "output_type": "display_data"
    }
   ],
   "source": [
    "open System\n",
    "open FSharp.Data\n",
    "open FSharpx.Collections\n",
    "\n",
    "let rows = CsvFile.Load(\"/workspaces/transport tycoon/23/s02e03_test.csv\").Rows\n",
    "rows"
   ]
  }
 ],
 "metadata": {
  "kernelspec": {
   "display_name": ".NET (C#)",
   "language": "C#",
   "name": ".net-csharp"
  },
  "language_info": {
   "file_extension": ".cs",
   "mimetype": "text/x-csharp",
   "name": "C#",
   "pygments_lexer": "csharp",
   "version": "9.0"
  },
  "orig_nbformat": 4
 },
 "nbformat": 4,
 "nbformat_minor": 2
}
